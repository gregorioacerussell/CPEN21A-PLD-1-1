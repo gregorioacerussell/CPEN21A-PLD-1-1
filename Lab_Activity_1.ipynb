{
  "nbformat": 4,
  "nbformat_minor": 0,
  "metadata": {
    "colab": {
      "provenance": [],
      "authorship_tag": "ABX9TyN26HrM1Sr1thU1hCOp0eHA",
      "include_colab_link": true
    },
    "kernelspec": {
      "name": "python3",
      "display_name": "Python 3"
    },
    "language_info": {
      "name": "python"
    }
  },
  "cells": [
    {
      "cell_type": "markdown",
      "metadata": {
        "id": "view-in-github",
        "colab_type": "text"
      },
      "source": [
        "<a href=\"https://colab.research.google.com/github/gregorioacerussell/CPEN21A-PLD-1-1/blob/main/Lab_Activity_1.ipynb\" target=\"_parent\"><img src=\"https://colab.research.google.com/assets/colab-badge.svg\" alt=\"Open In Colab\"/></a>"
      ]
    },
    {
      "cell_type": "code",
      "execution_count": 29,
      "metadata": {
        "colab": {
          "base_uri": "https://localhost:8080/"
        },
        "id": "CdyV3LzRPiBv",
        "outputId": "93917cc2-b2eb-4c54-e387-1573d83eaf80"
      },
      "outputs": [
        {
          "output_type": "stream",
          "name": "stdout",
          "text": [
            "Sum = 210\n",
            "Average = 10.5\n"
          ]
        }
      ],
      "source": [
        "#Problem 1\n",
        "\n",
        "n = 20\n",
        "total_numbers = n\n",
        "sum = 0\n",
        "average = 0\n",
        "\n",
        "while n >= 0:\n",
        "  sum += n\n",
        "  n -= 1\n",
        "  if n<0:\n",
        "    print(f\"Sum = {sum}\")\n",
        "    average = sum/total_numbers\n",
        "    print(f\"Average = {average}\")"
      ]
    },
    {
      "cell_type": "code",
      "source": [
        "#Problem 2\n",
        "\n",
        "class Student():\n",
        "  def __init__(self, name, student_no, age, school, course):\n",
        "    self.name = name\n",
        "    self.student_no = student_no\n",
        "    self.age = age\n",
        "    self.school = school\n",
        "    self.course = course\n",
        "  def Info(self):\n",
        "    print(f\"My name is {self.name} and I am {self.age} years old.\")\n",
        "    print(f\"I study at {self.school} studying {self.course}.\") \n",
        "    print(f\"My student number is {self.student_no}.\")\n",
        "\n",
        "Myself = Student(\"Ace Russell A. Gregorio\", 202202734, 18, \"Cavite State University\", \"BS Computer Engineering\")\n",
        "Myself.Info()"
      ],
      "metadata": {
        "colab": {
          "base_uri": "https://localhost:8080/"
        },
        "id": "mQlqyaLfgieX",
        "outputId": "300585bb-1c0a-40cd-b1c8-f46bf2d9b3f8"
      },
      "execution_count": 30,
      "outputs": [
        {
          "output_type": "stream",
          "name": "stdout",
          "text": [
            "My name is Ace Russell A. Gregorio and I am 18 years old.\n",
            "I study at Cavite State University studying BS Computer Engineering.\n",
            "My student number is 202202734.\n"
          ]
        }
      ]
    },
    {
      "cell_type": "code",
      "source": [],
      "metadata": {
        "id": "7rTOYNmkk_Ns"
      },
      "execution_count": null,
      "outputs": []
    }
  ]
}