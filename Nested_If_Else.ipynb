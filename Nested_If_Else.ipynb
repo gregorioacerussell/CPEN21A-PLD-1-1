{
  "nbformat": 4,
  "nbformat_minor": 0,
  "metadata": {
    "colab": {
      "provenance": [],
      "include_colab_link": true
    },
    "kernelspec": {
      "name": "python3",
      "display_name": "Python 3"
    },
    "language_info": {
      "name": "python"
    }
  },
  "cells": [
    {
      "cell_type": "markdown",
      "metadata": {
        "id": "view-in-github",
        "colab_type": "text"
      },
      "source": [
        "<a href=\"https://colab.research.google.com/github/gregorioacerussell/CPEN21A-PLD-1-1/blob/main/Nested_If_Else.ipynb\" target=\"_parent\"><img src=\"https://colab.research.google.com/assets/colab-badge.svg\" alt=\"Open In Colab\"/></a>"
      ]
    },
    {
      "cell_type": "markdown",
      "source": [
        "##Comparison Operators"
      ],
      "metadata": {
        "id": "EuFHsmLQUiPu"
      }
    },
    {
      "cell_type": "code",
      "source": [
        "#If Statement\n",
        "a=12\n",
        "b=100\n",
        "if b>a:\n",
        "  print(\"b is greater than a\")\n",
        "\n",
        "#Elif Statement\n",
        "c=12\n",
        "d=12\n",
        "if c>d:\n",
        "  print(\"c is greater than d\")\n",
        "elif c==c:\n",
        "  print(\"c and d are equal\")\n",
        "\n",
        "#Else Statement\n",
        "e=200\n",
        "f=33\n",
        "if f>e:\n",
        "  print(\"f is greater than e\")\n",
        "elif e==f:\n",
        "  print(\"e is equal to f\")\n",
        "else:\n",
        "  print(\"e is greater than f\")\n",
        "\n",
        "#Nested If\n",
        "x=41\n",
        "if x>10:\n",
        "  print(\"above 10\")\n",
        "  if x>20: \n",
        "    print(\"above 20\")\n",
        "  else:\n",
        "    print(\"below 20.\")\n",
        "  if x>30:\n",
        "    print(\"above 30\")\n",
        "  else:\n",
        "    print(\"below 30\")\n",
        "  if x>40:\n",
        "    print(\"above 40\")\n",
        "  else:\n",
        "    print(\"below 40\")\n",
        "  if x>50:\n",
        "    print(\"above 50\")\n",
        "  else:\n",
        "    print(\"below 50\")\n",
        "else:\n",
        "  print(\"below 10\")\n",
        "\n",
        "print(\"Enter a number:\")\n",
        "x=int(input())\n",
        "if x>10:\n",
        "  print(\"above 10\")\n",
        "  if x>20:\n",
        "    print(\"above 20\")\n",
        "  else:\n",
        "    print(\"below 20\")\n",
        "  if x>30:\n",
        "    print(\"above 30\")\n",
        "  else:\n",
        "    print(\"below 30\")\n",
        "  if x>40:\n",
        "    print(\"above 40\")\n",
        "  else:\n",
        "    print(\"below 40\")\n",
        "  if x>50:\n",
        "    print(\"above 50\")\n",
        "  else:\n",
        "    print(\"below 50\")\n",
        "else:\n",
        "  print(\"below 10\")\n"
      ],
      "metadata": {
        "colab": {
          "base_uri": "https://localhost:8080/"
        },
        "id": "K5uRXchFUj9v",
        "outputId": "013ba67d-4ee1-455e-d11e-173b84c07f8a"
      },
      "execution_count": 9,
      "outputs": [
        {
          "output_type": "stream",
          "name": "stdout",
          "text": [
            "b is greater than a\n",
            "c and d are equal\n",
            "e is greater than f\n",
            "above 10\n",
            "above 20\n",
            "above 30\n",
            "above 40\n",
            "below 50\n",
            "Enter a number:\n",
            "32\n",
            "above 10\n",
            "above 20\n",
            "above 30\n",
            "below 40\n",
            "below 50\n"
          ]
        }
      ]
    },
    {
      "cell_type": "markdown",
      "source": [
        "##Example 1"
      ],
      "metadata": {
        "id": "J7V4IiJLLjL8"
      }
    },
    {
      "cell_type": "code",
      "source": [
        "x= int(input(\"Enter your grade: \"))\n",
        "\n",
        "if x>17:\n",
        "  print(\"You are qualified to vote.\")\n",
        "else:\n",
        "  print(\"You do not meet the requirements to vote.\")"
      ],
      "metadata": {
        "id": "DbPhgXCFLkR4",
        "outputId": "621ae060-2131-40b3-b401-5ddd82a0a6a8",
        "colab": {
          "base_uri": "https://localhost:8080/"
        }
      },
      "execution_count": 6,
      "outputs": [
        {
          "output_type": "stream",
          "name": "stdout",
          "text": [
            "Enter your grade: 23\n",
            "You are qualified to vote.\n"
          ]
        }
      ]
    },
    {
      "cell_type": "markdown",
      "source": [
        "##Example 2"
      ],
      "metadata": {
        "id": "dQAAKNuuLmMs"
      }
    },
    {
      "cell_type": "code",
      "source": [
        "x= int(input(\"Enter a number: \"))\n",
        "\n",
        "if x>0:\n",
        "  print(\"Positive\")\n",
        "elif x==0:\n",
        "  print(\"Zero\")\n",
        "else:\n",
        "  print(\"Negative\")"
      ],
      "metadata": {
        "id": "gZwKHULpLnFg",
        "outputId": "e3e2c57a-9379-4a77-cd69-d26846757c88",
        "colab": {
          "base_uri": "https://localhost:8080/"
        }
      },
      "execution_count": 5,
      "outputs": [
        {
          "output_type": "stream",
          "name": "stdout",
          "text": [
            "Enter your grade: 76\n",
            "Passed\n"
          ]
        }
      ]
    },
    {
      "cell_type": "markdown",
      "source": [],
      "metadata": {
        "id": "zNRv-TFELiDQ"
      }
    },
    {
      "cell_type": "markdown",
      "source": [
        "##Example 3"
      ],
      "metadata": {
        "id": "DuX89zjTLsEE"
      }
    },
    {
      "cell_type": "code",
      "source": [
        "x= int(input(\"Enter your grade: \"))\n",
        "\n",
        "if x>=75:\n",
        "  print(\"Passed\")\n",
        "elif x==74:\n",
        "  print(\"Remedial\")\n",
        "elif x<0:\n",
        "  print(\"Not Accepted\")\n",
        "else:\n",
        "  print(\"Failed\")"
      ],
      "metadata": {
        "id": "Toa_k1aXLtEA",
        "outputId": "b9574453-fcf2-4c81-c3c1-f3debeef4678",
        "colab": {
          "base_uri": "https://localhost:8080/"
        }
      },
      "execution_count": 11,
      "outputs": [
        {
          "output_type": "stream",
          "name": "stdout",
          "text": [
            "Enter your grade: -9\n",
            "Not Accepted\n"
          ]
        }
      ]
    }
  ]
}