{
  "nbformat": 4,
  "nbformat_minor": 0,
  "metadata": {
    "colab": {
      "provenance": [],
      "authorship_tag": "ABX9TyM8wIouNJBH6LsozoYdeC5C",
      "include_colab_link": true
    },
    "kernelspec": {
      "name": "python3",
      "display_name": "Python 3"
    },
    "language_info": {
      "name": "python"
    }
  },
  "cells": [
    {
      "cell_type": "markdown",
      "metadata": {
        "id": "view-in-github",
        "colab_type": "text"
      },
      "source": [
        "<a href=\"https://colab.research.google.com/github/gregorioacerussell/CPEN21A-PLD-1-1/blob/main/Operations_and_Expressions_in_Python.ipynb\" target=\"_parent\"><img src=\"https://colab.research.google.com/assets/colab-badge.svg\" alt=\"Open In Colab\"/></a>"
      ]
    },
    {
      "cell_type": "markdown",
      "source": [
        "##Boolean Operators"
      ],
      "metadata": {
        "id": "fXgIWwuY6i__"
      }
    },
    {
      "cell_type": "code",
      "source": [
        "#variables\n",
        "a= 10 \n",
        "b= 9  \n",
        "\n",
        "#codes\n",
        "#boolean true\n",
        "print(10>9)  \n",
        "print(a>b)\n",
        "print(bool(\"Hello\"))\n",
        "print(bool(15))\n",
        "print(bool(True))\n",
        "print(bool(1))\n",
        "def myFunction1():\n",
        "  return True\n",
        "print(myFunction1())\n",
        "\n",
        "#boolean false\n",
        "print(10==9)\n",
        "print(a==b)\n",
        "print(10<9)\n",
        "print(a<b)\n",
        "print(bool(False))\n",
        "print(bool(0))\n",
        "print(bool(None))\n",
        "print(bool([]))\n",
        "print(bool({}))\n",
        "def myFunction2():\n",
        "  return False\n",
        "print(myFunction2())\n",
        "\n",
        "#if statements\n",
        "def myFunction3():\n",
        "  return True\n",
        "if myFunction3():\n",
        "  print(\"True\")\n",
        "else:\n",
        "  print(\"True\")"
      ],
      "metadata": {
        "id": "Za-qYDOI6r9N"
      },
      "execution_count": null,
      "outputs": []
    },
    {
      "cell_type": "markdown",
      "source": [
        "####You Try!"
      ],
      "metadata": {
        "id": "zMefYLb3-u5e"
      }
    },
    {
      "cell_type": "code",
      "source": [
        "print(10>9)\n",
        "\n",
        "a=6 # 0000 0110\n",
        "b=7 # 0000 0111\n",
        "print(a==b)\n",
        "print(6==6)\n",
        "print(a!=a)\n",
        "print(a!=b)"
      ],
      "metadata": {
        "id": "j8bM0Ecl-yBD"
      },
      "execution_count": null,
      "outputs": []
    },
    {
      "cell_type": "markdown",
      "source": [
        "##Python Operators"
      ],
      "metadata": {
        "id": "IG8zlcRL_PbD"
      }
    },
    {
      "cell_type": "code",
      "source": [
        "print(10+5)\n",
        "print(10-5)\n",
        "print(10*5)\n",
        "print(10/5)\n",
        "print(10%5) #displays the remainder\n",
        "print(10//3) #disregards the decimal\n",
        "print(10**2) #raised to ..."
      ],
      "metadata": {
        "id": "A-7Eh3jn_Rf-"
      },
      "execution_count": null,
      "outputs": []
    },
    {
      "cell_type": "code",
      "source": [],
      "metadata": {
        "id": "nyeeyzNKANuh"
      },
      "execution_count": null,
      "outputs": []
    },
    {
      "cell_type": "markdown",
      "source": [
        "##Bitwise Operators"
      ],
      "metadata": {
        "id": "HZoS1eHvA0cP"
      }
    },
    {
      "cell_type": "code",
      "source": [
        "a=0b00111100 #60\n",
        "b=0b00001101 #13\n",
        "\n",
        "#BINARY AND\n",
        "print(bin(a&b)) \n",
        "print(a&b)\n",
        "#BINARY OR\n",
        "print(bin(a|b))\n",
        "print(a|b)\n",
        "#BINARY XOR\n",
        "print(bin(a^b))\n",
        "print(a^b)\n",
        "#BINARY ONES COMPLIMENT\n",
        "print(bin(~a))\n",
        "print(~a)\n",
        "#BINARY LEFT SHIFT\n",
        "print(bin(a<<2))\n",
        "print(a<<2)\n",
        "#BINARY RIGHT SHIFT\n",
        "print(bin(a>>2))\n",
        "print(a>>2)"
      ],
      "metadata": {
        "id": "5fhW8DpHA2Pf"
      },
      "execution_count": null,
      "outputs": []
    },
    {
      "cell_type": "markdown",
      "source": [
        "##Asignment Operators"
      ],
      "metadata": {
        "id": "wHIyb7f_E--o"
      }
    },
    {
      "cell_type": "code",
      "source": [
        "x=2\n",
        "x+=3 #same as x=x+3\n",
        "print(x)\n",
        "\n",
        "y=2\n",
        "y-=3 #same as y=y-3\n",
        "print(y)"
      ],
      "metadata": {
        "id": "PqgeNGAHFAvd"
      },
      "execution_count": null,
      "outputs": []
    },
    {
      "cell_type": "markdown",
      "source": [
        "##Logical Operators"
      ],
      "metadata": {
        "id": "8z0wzbOLGt2I"
      }
    },
    {
      "cell_type": "code",
      "source": [
        "a=5\n",
        "b=6\n",
        "\n",
        "#AND logical\n",
        "print(a>b and a==a) \n",
        "print(a<b and a==a)\n",
        "#OR logical\n",
        "print(a>b or a==a)"
      ],
      "metadata": {
        "id": "pSNXBDPDGvpQ"
      },
      "execution_count": null,
      "outputs": []
    },
    {
      "cell_type": "markdown",
      "source": [
        "##Identity Operator"
      ],
      "metadata": {
        "id": "P92laD14IjLS"
      }
    },
    {
      "cell_type": "code",
      "source": [
        "a= 10\n",
        "b= 10\n",
        "print(a is b)\n",
        "print(a is not b)"
      ],
      "metadata": {
        "colab": {
          "base_uri": "https://localhost:8080/"
        },
        "id": "3ToIXYtqIkQn",
        "outputId": "740e0ae1-8315-4a53-9869-35518702649d"
      },
      "execution_count": 99,
      "outputs": [
        {
          "output_type": "stream",
          "name": "stdout",
          "text": [
            "True\n",
            "False\n"
          ]
        }
      ]
    }
  ]
}