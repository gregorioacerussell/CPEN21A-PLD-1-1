{
  "nbformat": 4,
  "nbformat_minor": 0,
  "metadata": {
    "colab": {
      "provenance": [],
      "authorship_tag": "ABX9TyMeejXbNRtMgMl76PAH7PhA",
      "include_colab_link": true
    },
    "kernelspec": {
      "name": "python3",
      "display_name": "Python 3"
    },
    "language_info": {
      "name": "python"
    }
  },
  "cells": [
    {
      "cell_type": "markdown",
      "metadata": {
        "id": "view-in-github",
        "colab_type": "text"
      },
      "source": [
        "<a href=\"https://colab.research.google.com/github/gregorioacerussell/CPEN21A-PLD-1-1/blob/main/Object_and_Class.ipynb\" target=\"_parent\"><img src=\"https://colab.research.google.com/assets/colab-badge.svg\" alt=\"Open In Colab\"/></a>"
      ]
    },
    {
      "cell_type": "code",
      "execution_count": 11,
      "metadata": {
        "colab": {
          "base_uri": "https://localhost:8080/"
        },
        "id": "VSSANeAx1Lmg",
        "outputId": "3b36df7b-ac93-4aae-ec83-acf83b5cb797"
      },
      "outputs": [
        {
          "output_type": "stream",
          "name": "stdout",
          "text": [
            "My name is Ace.\n",
            "I am 18 years old.\n",
            "Russell is his name.\n",
            "He is 18 years old.\n"
          ]
        }
      ],
      "source": [
        "#creating class and object\n",
        "\n",
        "class person:                           #creating parent class named person\n",
        "  def __init__(self,name,age):\n",
        "    self.name= name\n",
        "    self.age= age\n",
        "\n",
        "person1 = person(\"Ace\", 18)             #creating object name person1\n",
        "print(f\"My name is {person1.name}.\")\n",
        "print(f\"I am {person1.age} years old.\")\n",
        "\n",
        "class student(person):                  #creating a child class name student\n",
        "  pass\n",
        "\n",
        "person2 = student(\"Russell\", 18)        #creating object name person2\n",
        "print(f\"{person2.name} is his name.\")\n",
        "print(f\"He is {person2.age} years old.\")"
      ]
    },
    {
      "cell_type": "code",
      "source": [
        "#Application 1\n",
        "#write a code that uses shape as parent class name; \n",
        "#use square as child class that inherits the attributes of the parent class\n",
        "#use Area() and Perimiter() as methods to retrieve its values by assigning the instance of the object\n",
        "\n",
        "class shape:                                 #parent class\n",
        "  def __init__(self,name,area,perimeter):\n",
        "    self.name = name\n",
        "    self.area = area\n",
        "    self.perimiter = perimeter\n",
        "\n",
        "class square(shape):                         #child class\n",
        "  pass\n",
        "\n",
        "shape1=square(\"Square\",121,52)\n",
        "print(f\"The Area and the Perimiter of the {shape1.name} is {shape1.area} cm² and {shape1.perimiter} m.\")"
      ],
      "metadata": {
        "colab": {
          "base_uri": "https://localhost:8080/"
        },
        "id": "7tWlMcai3ySs",
        "outputId": "97489e96-8892-4ebe-c634-2304db76de1b"
      },
      "execution_count": 21,
      "outputs": [
        {
          "output_type": "stream",
          "name": "stdout",
          "text": [
            "The Area and the Perimiter of the Square is 121 cm² and 52 m.\n"
          ]
        }
      ]
    }
  ]
}