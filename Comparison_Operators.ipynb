{
  "nbformat": 4,
  "nbformat_minor": 0,
  "metadata": {
    "colab": {
      "provenance": [],
      "authorship_tag": "ABX9TyPoKgEqL0kUtJ8ohoEKAjmJ",
      "include_colab_link": true
    },
    "kernelspec": {
      "name": "python3",
      "display_name": "Python 3"
    },
    "language_info": {
      "name": "python"
    }
  },
  "cells": [
    {
      "cell_type": "markdown",
      "metadata": {
        "id": "view-in-github",
        "colab_type": "text"
      },
      "source": [
        "<a href=\"https://colab.research.google.com/github/gregorioacerussell/CPEN21A-PLD-1-1/blob/main/Comparison_Operators.ipynb\" target=\"_parent\"><img src=\"https://colab.research.google.com/assets/colab-badge.svg\" alt=\"Open In Colab\"/></a>"
      ]
    },
    {
      "cell_type": "markdown",
      "source": [
        "##Comparison Operators"
      ],
      "metadata": {
        "id": "EuFHsmLQUiPu"
      }
    },
    {
      "cell_type": "code",
      "source": [
        "#If Statement\n",
        "a=12\n",
        "b=100\n",
        "if b>a:\n",
        "  print(\"b is greater than a\")\n",
        "\n",
        "#Elif Statement\n",
        "c=12\n",
        "d=12\n",
        "if c>d:\n",
        "  print(\"c is greater than d\")\n",
        "elif c==c:\n",
        "  print(\"c and d are equal\")\n",
        "\n",
        "#Else Statement\n",
        "e=200\n",
        "f=33\n",
        "if f>e:\n",
        "  print(\"f is greater than e\")\n",
        "elif e==f:\n",
        "  print(\"e is equal to f\")\n",
        "else:\n",
        "  print(\"e is greater than f\")\n",
        "\n",
        "#Nested If\n",
        "x=41\n",
        "if x>10:\n",
        "  print(\"above 10\")\n",
        "  if x>20: \n",
        "    print(\"above 20\")\n",
        "  else:\n",
        "    print(\"below 20.\")\n",
        "  if x>30:\n",
        "    print(\"above 30\")\n",
        "  else:\n",
        "    print(\"below 30\")\n",
        "  if x>40:\n",
        "    print(\"above 40\")\n",
        "  else:\n",
        "    print(\"below 40\")\n",
        "  if x>50:\n",
        "    print(\"above 50\")\n",
        "  else:\n",
        "    print(\"below 50\")\n",
        "else:\n",
        "  print(\"below 10\")\n",
        "\n",
        "print(\"Enter a number:\")\n",
        "x=int(input())\n",
        "if x>10:\n",
        "  print(\"above 10\")\n",
        "  if x>20:\n",
        "    print(\"above 20\")\n",
        "  else:\n",
        "    print(\"below 20\")\n",
        "  if x>30:\n",
        "    print(\"above 30\")\n",
        "  else:\n",
        "    print(\"below 30\")\n",
        "  if x>40:\n",
        "    print(\"above 40\")\n",
        "  else:\n",
        "    print(\"below 40\")\n",
        "  if x>50:\n",
        "    print(\"above 50\")\n",
        "  else:\n",
        "    print(\"below 50\")\n",
        "else:\n",
        "  print(\"below 10\")\n"
      ],
      "metadata": {
        "colab": {
          "base_uri": "https://localhost:8080/"
        },
        "id": "K5uRXchFUj9v",
        "outputId": "866d0f5d-2520-4e33-878d-ecc8440f82ae"
      },
      "execution_count": 47,
      "outputs": [
        {
          "output_type": "stream",
          "name": "stdout",
          "text": [
            "b is greater than a\n",
            "c and d are equal\n",
            "e is greater than f\n",
            "above 10\n",
            "above 20\n",
            "above 30\n",
            "above 40\n",
            "below 50\n",
            "Enter a number:\n",
            "50\n",
            "above 10\n",
            "above 20\n",
            "above 30\n",
            "above 40\n",
            "below 50\n"
          ]
        }
      ]
    }
  ]
}