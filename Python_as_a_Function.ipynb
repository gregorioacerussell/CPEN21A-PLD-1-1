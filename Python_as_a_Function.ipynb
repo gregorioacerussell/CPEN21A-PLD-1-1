{
  "nbformat": 4,
  "nbformat_minor": 0,
  "metadata": {
    "colab": {
      "provenance": [],
      "authorship_tag": "ABX9TyNBsvIHl3VGTjQzAVw0hz6v",
      "include_colab_link": true
    },
    "kernelspec": {
      "name": "python3",
      "display_name": "Python 3"
    },
    "language_info": {
      "name": "python"
    }
  },
  "cells": [
    {
      "cell_type": "markdown",
      "metadata": {
        "id": "view-in-github",
        "colab_type": "text"
      },
      "source": [
        "<a href=\"https://colab.research.google.com/github/gregorioacerussell/CPEN21A-PLD-1-1/blob/main/Python_as_a_Function.ipynb\" target=\"_parent\"><img src=\"https://colab.research.google.com/assets/colab-badge.svg\" alt=\"Open In Colab\"/></a>"
      ]
    },
    {
      "cell_type": "code",
      "execution_count": 1,
      "metadata": {
        "colab": {
          "base_uri": "https://localhost:8080/"
        },
        "id": "CKCiWfY-icBh",
        "outputId": "4ec673e9-9063-40d1-89d2-935f19805982"
      },
      "outputs": [
        {
          "output_type": "execute_result",
          "data": {
            "text/plain": [
              "4.5"
            ]
          },
          "metadata": {},
          "execution_count": 1
        }
      ],
      "source": [
        "#Function Calls\n",
        "abs(-4.5)"
      ]
    },
    {
      "cell_type": "code",
      "source": [
        "#Function Calls other Function\n",
        "pow(abs(-2), round(4.5)) #pow(2,4) (2 raise to 4)"
      ],
      "metadata": {
        "colab": {
          "base_uri": "https://localhost:8080/"
        },
        "id": "DqLdRH11if6H",
        "outputId": "25e83366-26bd-447d-bd2a-7deccdbd6f14"
      },
      "execution_count": 4,
      "outputs": [
        {
          "output_type": "execute_result",
          "data": {
            "text/plain": [
              "16"
            ]
          },
          "metadata": {},
          "execution_count": 4
        }
      ]
    },
    {
      "cell_type": "code",
      "source": [
        "#Type code Function\n",
        "int(4.5)\n",
        "float(4)"
      ],
      "metadata": {
        "colab": {
          "base_uri": "https://localhost:8080/"
        },
        "id": "Vsa0eQEDiwCH",
        "outputId": "7882eeb5-3f1c-44b4-cddd-2704d716886c"
      },
      "execution_count": 8,
      "outputs": [
        {
          "output_type": "execute_result",
          "data": {
            "text/plain": [
              "4.0"
            ]
          },
          "metadata": {},
          "execution_count": 8
        }
      ]
    },
    {
      "cell_type": "code",
      "source": [
        "#Defining our own Function\n",
        "\n",
        "def convert_to_celsius(fahrenheit):\n",
        "  celsius=(fahrenheit-32)*5/9\n",
        "  return celsius\n",
        "fahrenheit=float(input(\"Enter a number in fahrenheit: \"))\n",
        "\n",
        "f=convert_to_celsius(fahrenheit)\n",
        "x=round(f,2)\n",
        "\n",
        "print(str(x) + \" °C\")"
      ],
      "metadata": {
        "colab": {
          "base_uri": "https://localhost:8080/"
        },
        "id": "sEixpVZVi_t9",
        "outputId": "8783fa46-c914-4ab0-f59f-ef100dc32699"
      },
      "execution_count": 62,
      "outputs": [
        {
          "output_type": "stream",
          "name": "stdout",
          "text": [
            "Enter a number in fahrenheit: 100\n",
            "37.78 °C\n"
          ]
        }
      ]
    },
    {
      "cell_type": "code",
      "source": [
        "#Exercises\n",
        "\n",
        "#min and max function\n",
        "a= min(2, 3, 4)\n",
        "b= max(2, -3, 4, 7, -5)\n",
        "c= max(2, -3, min(4, 7), -5)\n",
        "\n",
        "print(a, b, c)"
      ],
      "metadata": {
        "colab": {
          "base_uri": "https://localhost:8080/"
        },
        "id": "dtpb9csIqYhg",
        "outputId": "0e8dae75-2ef1-4c49-f2ba-dc465f23112f"
      },
      "execution_count": 65,
      "outputs": [
        {
          "output_type": "stream",
          "name": "stdout",
          "text": [
            "2 7 4\n"
          ]
        }
      ]
    }
  ]
}