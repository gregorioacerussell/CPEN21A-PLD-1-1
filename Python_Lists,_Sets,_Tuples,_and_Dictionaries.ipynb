{
  "nbformat": 4,
  "nbformat_minor": 0,
  "metadata": {
    "colab": {
      "provenance": [],
      "authorship_tag": "ABX9TyPEZ37RoAahD+lJkwOJIBxX",
      "include_colab_link": true
    },
    "kernelspec": {
      "name": "python3",
      "display_name": "Python 3"
    },
    "language_info": {
      "name": "python"
    }
  },
  "cells": [
    {
      "cell_type": "markdown",
      "metadata": {
        "id": "view-in-github",
        "colab_type": "text"
      },
      "source": [
        "<a href=\"https://colab.research.google.com/github/gregorioacerussell/CPEN21A-PLD-1-1/blob/main/Python_Lists%2C_Sets%2C_Tuples%2C_and_Dictionaries.ipynb\" target=\"_parent\"><img src=\"https://colab.research.google.com/assets/colab-badge.svg\" alt=\"Open In Colab\"/></a>"
      ]
    },
    {
      "cell_type": "code",
      "execution_count": 4,
      "metadata": {
        "colab": {
          "base_uri": "https://localhost:8080/"
        },
        "id": "7G-tyKZg01sI",
        "outputId": "cc056852-576b-40ef-849b-56b3b982df0f"
      },
      "outputs": [
        {
          "output_type": "stream",
          "name": "stdout",
          "text": [
            "1\n",
            "[1, 2, 'A', 'B', 'Hello', 'World!']\n"
          ]
        }
      ],
      "source": [
        "#Python Lists\n",
        "pi = 3.14159\n",
        "varList = [1, 2, 'A', 'B', \"Hello\", pi]\n",
        "print(varList[0])\n",
        "\n",
        "varList.append(\"World!\") #adding a string\n",
        "len(varList)\n",
        "\n",
        "varList.remove(pi) #removing a var\n",
        "print(varList)"
      ]
    },
    {
      "cell_type": "code",
      "source": [
        "#Python Dictionary\n",
        "\n",
        "thisdict = {\n",
        "    \"name\": \"Ace\",\n",
        "    \"age\" : 18,\n",
        "    \"bday\": \"October 18, 2004\",\n",
        "    }\n",
        "print(thisdict[\"name\"])"
      ],
      "metadata": {
        "colab": {
          "base_uri": "https://localhost:8080/"
        },
        "id": "3Vczb7i-1iDA",
        "outputId": "8cb2e12c-c67f-4470-c7c0-cd055bd7f3c5"
      },
      "execution_count": 19,
      "outputs": [
        {
          "output_type": "stream",
          "name": "stdout",
          "text": [
            "Ace\n"
          ]
        }
      ]
    },
    {
      "cell_type": "code",
      "source": [
        "#For and Range\n",
        "varList = [0, 1, 2, 3, 4, 5, 6, 7, 8, 9]\n",
        "print(varList)\n",
        "\n",
        "varList=range(0, 9, 4)\n",
        "print([var for var in varList])"
      ],
      "metadata": {
        "colab": {
          "base_uri": "https://localhost:8080/"
        },
        "id": "IIfBQEI222FR",
        "outputId": "057c0cfd-bd59-433c-cff1-ce3e15a6a39c"
      },
      "execution_count": 36,
      "outputs": [
        {
          "output_type": "stream",
          "name": "stdout",
          "text": [
            "[0, 1, 2, 3, 4, 5, 6, 7, 8, 9]\n",
            "[0, 4, 8]\n"
          ]
        }
      ]
    },
    {
      "cell_type": "code",
      "source": [
        "#Slicing\n",
        "\n",
        "varList = [1, 2, 3, 4, 5, 6, 7, 8, 9, 10]\n",
        "print(varList[:5])\n",
        "print(varList[5:])\n",
        "print(varList[:-2]) #without the 2 last items\n",
        "print(varList[-2:]) #only the 2 last items\n",
        "print(varList[2:-2]) #after 2 then before last 2 items\n",
        "print(varList[2:8:2]) #after 2 before 8 while adding 2 "
      ],
      "metadata": {
        "colab": {
          "base_uri": "https://localhost:8080/"
        },
        "id": "Vi3Ymlzk4TlL",
        "outputId": "49af32b9-5d0e-4c84-a796-4517f225005e"
      },
      "execution_count": 44,
      "outputs": [
        {
          "output_type": "stream",
          "name": "stdout",
          "text": [
            "[1, 2, 3, 4, 5]\n",
            "[6, 7, 8, 9, 10]\n",
            "[1, 2, 3, 4, 5, 6, 7, 8]\n",
            "[9, 10]\n",
            "[3, 4, 5, 6, 7, 8]\n",
            "[3, 5, 7]\n"
          ]
        }
      ]
    }
  ]
}