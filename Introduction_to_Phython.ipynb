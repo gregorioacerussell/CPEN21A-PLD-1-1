{
  "nbformat": 4,
  "nbformat_minor": 0,
  "metadata": {
    "colab": {
      "provenance": [],
      "authorship_tag": "ABX9TyNFyatgQiRQTtmTJBzi4+Wn",
      "include_colab_link": true
    },
    "kernelspec": {
      "name": "python3",
      "display_name": "Python 3"
    },
    "language_info": {
      "name": "python"
    }
  },
  "cells": [
    {
      "cell_type": "markdown",
      "metadata": {
        "id": "view-in-github",
        "colab_type": "text"
      },
      "source": [
        "<a href=\"https://colab.research.google.com/github/gregorioacerussell/CPEN21A-PLD-1-1/blob/main/Introduction_to_Phython.ipynb\" target=\"_parent\"><img src=\"https://colab.research.google.com/assets/colab-badge.svg\" alt=\"Open In Colab\"/></a>"
      ]
    },
    {
      "cell_type": "markdown",
      "source": [
        "##Indentation"
      ],
      "metadata": {
        "id": "3hIO57N2GwW8"
      }
    },
    {
      "cell_type": "code",
      "source": [
        "if 5>3:\n",
        "  print(\"5 is greater than 3\")  "
      ],
      "metadata": {
        "colab": {
          "base_uri": "https://localhost:8080/"
        },
        "id": "Z468MlPwG2Mx",
        "outputId": "eaed304b-c864-4727-83f8-e06801f8a7cd"
      },
      "execution_count": 1,
      "outputs": [
        {
          "output_type": "stream",
          "name": "stdout",
          "text": [
            "5 is greater than 3\n"
          ]
        }
      ]
    },
    {
      "cell_type": "markdown",
      "source": [
        "##Variable Declaration"
      ],
      "metadata": {
        "id": "c6_zHoKrHBEj"
      }
    },
    {
      "cell_type": "code",
      "source": [
        "#variable with a single value\n",
        "\n",
        "x=5\n",
        "y=3\n",
        "\n",
        "if x>y:\n",
        "  print(\"x is greater than y\")\n",
        "else:\n",
        "  print(\"y is greater than y\")\n",
        "\n",
        "#variable with multiple vales\n",
        "\n",
        "a,b = 1,2\n",
        "\n",
        "print(\"The value of a is:\" ,a)\n",
        "print(\"The value of b is:\" ,b)"
      ],
      "metadata": {
        "colab": {
          "base_uri": "https://localhost:8080/"
        },
        "id": "oHuWQdM2HFi8",
        "outputId": "26df14dc-f58b-471f-cc8e-73595eedd96b"
      },
      "execution_count": 2,
      "outputs": [
        {
          "output_type": "stream",
          "name": "stdout",
          "text": [
            "x is greater than y\n",
            "The value of a is: 1\n",
            "2\n"
          ]
        }
      ]
    },
    {
      "cell_type": "markdown",
      "source": [
        "##Casting and Type() function"
      ],
      "metadata": {
        "id": "qBtDoQW7H7qk"
      }
    },
    {
      "cell_type": "code",
      "source": [
        "f = int(4) #integer\n",
        "g = float(4) #decimal or fractional\n",
        "\n",
        "print(f)\n",
        "print(g)\n",
        "\n",
        "print(type(f))\n",
        "print(type(g))"
      ],
      "metadata": {
        "id": "fqq6qLKnH_a0"
      },
      "execution_count": null,
      "outputs": []
    },
    {
      "cell_type": "markdown",
      "source": [
        "##Double quote or Single quote"
      ],
      "metadata": {
        "id": "SHdxJA35IT7E"
      }
    },
    {
      "cell_type": "code",
      "source": [
        "name = \"Ace\"\n",
        "name1 = 'Gregorio'\n",
        "\n",
        "print(name)\n",
        "print(name1)"
      ],
      "metadata": {
        "id": "grvCCEjbIWN1"
      },
      "execution_count": null,
      "outputs": []
    },
    {
      "cell_type": "markdown",
      "source": [
        "##Case Sensitive"
      ],
      "metadata": {
        "id": "twUYUQoYIfrD"
      }
    },
    {
      "cell_type": "code",
      "source": [
        "c = 'Ace Gregorio'\n",
        "C = 'ACE GREGORIO'\n",
        "\n",
        "print(c)\n",
        "print(C)"
      ],
      "metadata": {
        "id": "yitv66yoIhDW"
      },
      "execution_count": null,
      "outputs": []
    },
    {
      "cell_type": "markdown",
      "source": [
        "##Output Variable"
      ],
      "metadata": {
        "id": "at6yrPiWIury"
      }
    },
    {
      "cell_type": "code",
      "source": [
        "d = 'is fun!'\n",
        "print(\"Python programming \" + d) #append is fun"
      ],
      "metadata": {
        "colab": {
          "base_uri": "https://localhost:8080/"
        },
        "id": "w4tHz8-HIy0f",
        "outputId": "0650d8e1-c169-4874-d6ba-df79e1061f1e"
      },
      "execution_count": 8,
      "outputs": [
        {
          "output_type": "stream",
          "name": "stdout",
          "text": [
            "Python programming is fun!\n"
          ]
        }
      ]
    }
  ]
}